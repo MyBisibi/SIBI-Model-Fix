{
 "cells": [
  {
   "cell_type": "code",
   "execution_count": 6,
   "metadata": {},
   "outputs": [],
   "source": [
    "import os\n",
    "import cv2\n",
    "import glob"
   ]
  },
  {
   "cell_type": "code",
   "execution_count": 13,
   "metadata": {},
   "outputs": [
    {
     "name": "stdout",
     "output_type": "stream",
     "text": [
      "Done A\n",
      "Done B\n",
      "Done Blank\n",
      "Done C\n",
      "Done D\n",
      "Done E\n",
      "Done F\n",
      "Done G\n",
      "Done H\n",
      "Done I\n",
      "Done K\n",
      "Done L\n",
      "Done M\n",
      "Done N\n",
      "Done O\n",
      "Done P\n",
      "Done Q\n",
      "Done R\n",
      "Done S\n",
      "Done T\n",
      "Done U\n",
      "Done V\n",
      "Done W\n",
      "Done X\n",
      "Done Y\n"
     ]
    }
   ],
   "source": [
    "# ubah gambar menjadi RGB\n",
    "for path in os.listdir('./DatasetRGB'):\n",
    "    for filename in glob.glob('./DatasetRGB/'+path+'/*.jpg'):\n",
    "        img = cv2.imread(filename)\n",
    "        img = cv2.cvtColor(img, cv2.COLOR_BGR2RGB)\n",
    "        cv2.imwrite(filename, img)\n",
    "    print('Done', path)\n"
   ]
  },
  {
   "cell_type": "code",
   "execution_count": 14,
   "metadata": {},
   "outputs": [
    {
     "name": "stdout",
     "output_type": "stream",
     "text": [
      "['A', 'B', 'Blank', 'C', 'D', 'E', 'F', 'G', 'H', 'I', 'K', 'L', 'M', 'N', 'O', 'P', 'Q', 'R', 'S', 'T', 'U', 'V', 'W', 'X', 'Y']\n"
     ]
    }
   ],
   "source": [
    "# ubah format gambar menjadi jpg pada folder dataset blank\n",
    "\n",
    "DIREKTORI = './Datasets'\n",
    "labels = os.listdir(DIREKTORI)\n",
    "print(labels)\n",
    "\n",
    "for label in labels:\n",
    "    if label == 'Blank':\n",
    "        for file in os.listdir(DIREKTORI+'/'+label):\n",
    "            if file.endswith('.png'):\n",
    "                os.rename(DIREKTORI+'/'+label+'/'+file, DIREKTORI+'/'+label+'/'+file[:-4]+'.jpg')"
   ]
  },
  {
   "cell_type": "code",
   "execution_count": 15,
   "metadata": {},
   "outputs": [],
   "source": [
    "# copy gambar ke folder baru\n",
    "import uuid\n",
    "import glob\n",
    "from PIL import Image\n",
    "\n",
    "for path in os.listdir('./Datasets'):\n",
    "    if not os.path.exists('./DatasetRGBS/'+path):\n",
    "        os.makedirs('./DatasetRGBS/'+path)"
   ]
  },
  {
   "cell_type": "code",
   "execution_count": 16,
   "metadata": {},
   "outputs": [
    {
     "name": "stdout",
     "output_type": "stream",
     "text": [
      "Done A\n",
      "Done B\n",
      "Done Blank\n",
      "Done C\n",
      "Done D\n",
      "Done E\n",
      "Done F\n",
      "Done G\n",
      "Done H\n",
      "Done I\n",
      "Done K\n",
      "Done L\n",
      "Done M\n",
      "Done N\n",
      "Done O\n",
      "Done P\n",
      "Done Q\n",
      "Done R\n",
      "Done S\n",
      "Done T\n",
      "Done U\n",
      "Done V\n",
      "Done W\n",
      "Done X\n",
      "Done Y\n"
     ]
    }
   ],
   "source": [
    "# ubag gambar menjadi RGB dan copy ke folder baru\n",
    "for path in os.listdir('./Datasets'):\n",
    "    for filename in glob.glob('./Datasets/'+path+'/*.jpg'):\n",
    "        img = cv2.imread(filename)\n",
    "        img = cv2.cvtColor(img, cv2.COLOR_BGR2RGB)\n",
    "        cv2.imwrite('./DatasetRGBS/'+path+'/'+str(uuid.uuid4())+'.jpg', img)\n",
    "    print('Done', path)"
   ]
  }
 ],
 "metadata": {
  "kernelspec": {
   "display_name": "Python 3",
   "language": "python",
   "name": "python3"
  },
  "language_info": {
   "codemirror_mode": {
    "name": "ipython",
    "version": 3
   },
   "file_extension": ".py",
   "mimetype": "text/x-python",
   "name": "python",
   "nbconvert_exporter": "python",
   "pygments_lexer": "ipython3",
   "version": "3.10.0"
  },
  "orig_nbformat": 4
 },
 "nbformat": 4,
 "nbformat_minor": 2
}
